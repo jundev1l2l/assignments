{
  "nbformat": 4,
  "nbformat_minor": 0,
  "metadata": {
    "colab": {
      "name": "iris-classification.ipynb",
      "provenance": [],
      "collapsed_sections": [],
      "authorship_tag": "ABX9TyOwNE7IR5/cBZbfSbqoiU5G",
      "include_colab_link": true
    },
    "kernelspec": {
      "name": "python3",
      "display_name": "Python 3"
    }
  },
  "cells": [
    {
      "cell_type": "markdown",
      "metadata": {
        "id": "view-in-github",
        "colab_type": "text"
      },
      "source": [
        "<a href=\"https://colab.research.google.com/github/jundev1l2l/jun-dev-1l2l/blob/master/iris_classification.ipynb\" target=\"_parent\"><img src=\"https://colab.research.google.com/assets/colab-badge.svg\" alt=\"Open In Colab\"/></a>"
      ]
    },
    {
      "cell_type": "code",
      "metadata": {
        "id": "5TiKiZvunupt"
      },
      "source": [
        "import numpy as np\n",
        "import pandas as pd\n",
        "import matplotlib.pyplot as plt"
      ],
      "execution_count": 1,
      "outputs": []
    },
    {
      "cell_type": "markdown",
      "metadata": {
        "id": "9aB5WXX-MUS3"
      },
      "source": [
        "# Logistic Regression Model\n",
        "\n",
        "- 이진 분류를 위한 로지스틱 회귀 모델을 Newton-Raphson 방법으로 학습"
      ]
    },
    {
      "cell_type": "code",
      "metadata": {
        "id": "eYgEbAGPn98Q"
      },
      "source": [
        "class LogisticNewton():\n",
        "    def __init__(self):\n",
        "        pass\n",
        "    \n",
        "    def fit(self, x, y, threshold=0.01, pinv=False, epochs=100, is_print=True, is_continue=False):\n",
        "        \"\"\"\n",
        "        threshold: stopping rule considering weight convergence\n",
        "        pinv: flag for using pseudo-inverse in weight updata (prevent singular matrix case)\n",
        "        epochs: max epochs to update\n",
        "        \"\"\"\n",
        "        self.threshold = threshold\n",
        "        self.features = x  # [N,D]\n",
        "        self.target = y  # [N,]\n",
        "        N, D = x.shape\n",
        "\n",
        "        x0 = np.concatenate((np.ones((N, 1)), x), -1) # [N,D+1] augmented x_data\n",
        "        \"\"\"\n",
        "        initialization of weight value [important]\n",
        "        (1) Normal(0, 1) --> unstable \n",
        "        (2) All 0 --> stable\n",
        "        \"\"\"\n",
        "        if not is_continue:\n",
        "            self.w = np.zeros((D+1, 1)) # [D+1,1] including bias term\n",
        "\n",
        "        epoch = 0\n",
        "        while True:\n",
        "            self.pred = self.predict(x)\n",
        "            self.acc = ((self.pred == y) + 0).mean()\n",
        "\n",
        "            hessian, gradient = 0, 0\n",
        "            for i, data in enumerate(x0):\n",
        "                data = data.reshape(1, D+1)\n",
        "                sigmoid = 1 / (1 + np.exp( - data @ self.w ))\n",
        "                hessian += sigmoid * (1 - sigmoid) * np.transpose(data) @ data\n",
        "                gradient += (y[i] - sigmoid) * np.transpose(data) \n",
        "            if pinv:\n",
        "                dw = np.linalg.pinv(hessian) @ gradient\n",
        "            else:\n",
        "                dw = np.linalg.inv(hessian) @ gradient\n",
        "\n",
        "            if (self.w > 1e5).any():\n",
        "                if is_print:\n",
        "                    print(\"weight value too large\\n\")\n",
        "                break\n",
        "            else:\n",
        "                self.w += dw\n",
        "            epoch += 1\n",
        "\n",
        "            if (dw < self.w * self.threshold).all():\n",
        "                if is_print:\n",
        "                    print(\"almost no update on weight values\\n\")\n",
        "                    self.print_result()\n",
        "                break\n",
        "            # if (self.w > 1e10).any():\n",
        "            #     if is_print:\n",
        "            #         print(\"weight value too large\\n\")\n",
        "            #     break\n",
        "            if self.acc == 1.0:\n",
        "                if is_print:\n",
        "                    print(\"get perfect accuracy\\n\")\n",
        "                    self.print_result()\n",
        "                break\n",
        "            if epoch == epochs:\n",
        "                if is_print:\n",
        "                    print(f\"{epochs} epochs done\\n\")\n",
        "                    self.print_result()\n",
        "                break\n",
        "    \n",
        "    def predict(self, x):\n",
        "        N = x.shape[0]\n",
        "        x0 = np.concatenate((np.ones((N,1)), x), -1)\n",
        "        pred = ((x0 @ self.w) >= 0.5) + 0  # [N,1] array with {0, 1}\n",
        "        return pred.squeeze() # [N,]\n",
        "\n",
        "    def print_result(self):\n",
        "        print(f\"acc: {self.acc:0.4f}\")\n",
        "        print(self.w)\n",
        "        print()\n",
        "\n",
        "    def cv(self, x, y, threshold=1e-5, pinv=True, epochs=1000, is_print=False):\n",
        "        \"\"\"\n",
        "        cross-validate the result\n",
        "        \"\"\"\n",
        "        N, D = x.shape\n",
        "        self.w = np.zeros((D+1, 1))\n",
        "\n",
        "        N = x.shape[0]\n",
        "        n = int(N / 10)  # number of data points per group\n",
        "        index = np.arange(N)\n",
        "        np.random.shuffle(index)\n",
        "\n",
        "        groups_index = [index[10*i:10*(i+1)] for i in range(n)]  # 10-fold\n",
        "\n",
        "        self.ACC_list = []\n",
        "        self.TPR_list = []\n",
        "        self.TNR_list = []\n",
        "        self.ACC = []\n",
        "        self.TPR = []\n",
        "        self.TNR = []\n",
        "        self.confusion = {\"TP\":0, \"FP\":0, \"TN\":0, \"FN\":0}\n",
        "\n",
        "        for group_index in groups_index:\n",
        "\n",
        "            _x = x[np.delete(index, group_index)]  # x data 90개\n",
        "            _y = y[np.delete(index, group_index)]  # y data 90개\n",
        "        \n",
        "            for e in range(epochs):\n",
        "                confusion = {\"TP\":0, \"FP\":0, \"TN\":0, \"FN\":0}\n",
        "                self.fit(_x, _y, threshold, pinv, 1, is_print, is_continue=True)\n",
        "                pred = self.predict(x[group_index])\n",
        "                target = y[group_index]\n",
        "                for i in range(n):\n",
        "                    if pred[i] == 1:\n",
        "                        if target[i] == 1:\n",
        "                            confusion[\"TP\"] += 1\n",
        "                            self.confusion[\"TP\"] += 1\n",
        "                        else:\n",
        "                            confusion[\"FN\"] += 1\n",
        "                            self.confusion[\"FN\"] += 1\n",
        "                    else:\n",
        "                        if target[i] == 1:\n",
        "                            confusion[\"FP\"] += 1\n",
        "                            self.confusion[\"FP\"] += 1\n",
        "                        else:\n",
        "                            confusion[\"TN\"] += 1\n",
        "                            self.confusion[\"TN\"] += 1\n",
        "                \n",
        "                acc = ((pred == target) + 0).mean()\n",
        "                if (confusion[\"TP\"] + confusion[\"FN\"]) > 0:\n",
        "                    tpr = confusion[\"TP\"] / (confusion[\"TP\"] + confusion[\"FN\"])\n",
        "                else:\n",
        "                    tpr = 0\n",
        "                if (confusion[\"TN\"] + confusion[\"FP\"]) > 0:\n",
        "                    tnr = confusion[\"TN\"] / (confusion[\"TN\"] + confusion[\"FP\"])\n",
        "                else:\n",
        "                    tnr = 0\n",
        "\n",
        "                self.ACC_list.append(acc)\n",
        "                self.TPR_list.append(tpr)\n",
        "                self.TNR_list.append(tnr)\n",
        "\n",
        "                if e == (epochs-1):\n",
        "                    self.ACC.append(acc)\n",
        "                    self.TPR.append(tpr)\n",
        "                    self.TNR.append(tnr)\n",
        "                "
      ],
      "execution_count": 89,
      "outputs": []
    },
    {
      "cell_type": "markdown",
      "metadata": {
        "id": "gdqQi2IlL7LU"
      },
      "source": [
        "# Toy example\n",
        "\n",
        "- 아주 간단한 예제로, 모델이 잘 작동하는지 확인"
      ]
    },
    {
      "cell_type": "code",
      "metadata": {
        "colab": {
          "base_uri": "https://localhost:8080/",
          "height": 282
        },
        "id": "GpQU0zceG-Jb",
        "outputId": "26d203ff-62db-4550-e422-45124549bb8a"
      },
      "source": [
        "x_toy = np.linspace(0, 1, 10000).reshape(-1, 1)\n",
        "y_toy = ((x_toy > 0.5) + 0).squeeze()\n",
        "\n",
        "plt.plot(x_toy, y_toy.reshape(-1, 1), \"r.\")"
      ],
      "execution_count": 4,
      "outputs": [
        {
          "output_type": "execute_result",
          "data": {
            "text/plain": [
              "[<matplotlib.lines.Line2D at 0x7f904fcd2c50>]"
            ]
          },
          "metadata": {
            "tags": []
          },
          "execution_count": 4
        },
        {
          "output_type": "display_data",
          "data": {
            "image/png": "[encoded data removed]",
            "text/plain": [
              "<Figure size 432x288 with 1 Axes>"
            ]
          },
          "metadata": {
            "tags": [],
            "needs_background": "light"
          }
        }
      ]
    },
    {
      "cell_type": "code",
      "metadata": {
        "colab": {
          "base_uri": "https://localhost:8080/"
        },
        "id": "M-D8P403Tait",
        "outputId": "09919609-5b5a-41b7-fe4e-9ec9ab7a3dce"
      },
      "source": [
        "toy_model = LogisticNewton()\n",
        "\n",
        "toy_model.fit(x_toy, y_toy)"
      ],
      "execution_count": 5,
      "outputs": [
        {
          "output_type": "stream",
          "text": [
            "/usr/local/lib/python3.6/dist-packages/ipykernel_launcher.py:34: RuntimeWarning: overflow encountered in exp\n"
          ],
          "name": "stderr"
        },
        {
          "output_type": "stream",
          "text": [
            "get perfect accuracy\n",
            "\n",
            "acc: 1.0000\n",
            "[[-8225.6252319 ]\n",
            " [16451.25046381]]\n",
            "\n"
          ],
          "name": "stdout"
        }
      ]
    },
    {
      "cell_type": "markdown",
      "metadata": {
        "id": "aPAKHesxMRo-"
      },
      "source": [
        "# Iris dataset"
      ]
    },
    {
      "cell_type": "code",
      "metadata": {
        "colab": {
          "base_uri": "https://localhost:8080/"
        },
        "id": "7P_QmCyuQjlZ",
        "outputId": "a34a19b9-d957-4be4-9ddb-fca042c5c3e4"
      },
      "source": [
        "from google.colab import drive\n",
        "\n",
        "drive.mount(\"./drive\")"
      ],
      "execution_count": 6,
      "outputs": [
        {
          "output_type": "stream",
          "text": [
            "Mounted at ./drive\n"
          ],
          "name": "stdout"
        }
      ]
    },
    {
      "cell_type": "markdown",
      "metadata": {
        "id": "JLJ_D_lRS78c"
      },
      "source": [
        "### CSV 파일을 `pandas.DataFrame`으로 불러오기"
      ]
    },
    {
      "cell_type": "code",
      "metadata": {
        "id": "WSMG7M8AqUtP"
      },
      "source": [
        "iris_data = pd.read_csv(\"./drive/My Drive/Colab Notebooks/logistic-newton-tutorial/iris-data.csv\",\n",
        "                        names=[\"sepal length\", \"sepal width\", \"petal length\", \"petal width\",\"class\"])"
      ],
      "execution_count": 7,
      "outputs": []
    },
    {
      "cell_type": "markdown",
      "metadata": {
        "id": "eoMY0Q9CS7H4"
      },
      "source": [
        "### `setosa` 클래스에 해당하는 데이터 삭제"
      ]
    },
    {
      "cell_type": "code",
      "metadata": {
        "id": "mtEaaOQeQwJb"
      },
      "source": [
        "drop_index = iris_data[iris_data[\"class\"]==\"Iris-setosa\"].index\n",
        "\n",
        "iris_data = iris_data.drop(drop_index)"
      ],
      "execution_count": 8,
      "outputs": []
    },
    {
      "cell_type": "markdown",
      "metadata": {
        "id": "NSSJO30dTH56"
      },
      "source": [
        "### `versicolor` = 1, `virginica` = 0 으로 설정"
      ]
    },
    {
      "cell_type": "code",
      "metadata": {
        "id": "V-UU1R3mSTXY"
      },
      "source": [
        "change_dict = {\"Iris-versicolor\": 1,\n",
        "               \"Iris-virginica\": 0}\n",
        "\n",
        "iris_data = iris_data.replace({\"class\": change_dict})"
      ],
      "execution_count": 9,
      "outputs": []
    },
    {
      "cell_type": "code",
      "metadata": {
        "colab": {
          "base_uri": "https://localhost:8080/",
          "height": 204
        },
        "id": "dQZFeZqkStaD",
        "outputId": "6758093d-95f8-429c-d029-429d469699c8"
      },
      "source": [
        "iris_data.head()"
      ],
      "execution_count": 10,
      "outputs": [
        {
          "output_type": "execute_result",
          "data": {
            "text/html": [
              "<div>\n",
              "<style scoped>\n",
              "    .dataframe tbody tr th:only-of-type {\n",
              "        vertical-align: middle;\n",
              "    }\n",
              "\n",
              "    .dataframe tbody tr th {\n",
              "        vertical-align: top;\n",
              "    }\n",
              "\n",
              "    .dataframe thead th {\n",
              "        text-align: right;\n",
              "    }\n",
              "</style>\n",
              "<table border=\"1\" class=\"dataframe\">\n",
              "  <thead>\n",
              "    <tr style=\"text-align: right;\">\n",
              "      <th></th>\n",
              "      <th>sepal length</th>\n",
              "      <th>sepal width</th>\n",
              "      <th>petal length</th>\n",
              "      <th>petal width</th>\n",
              "      <th>class</th>\n",
              "    </tr>\n",
              "  </thead>\n",
              "  <tbody>\n",
              "    <tr>\n",
              "      <th>50</th>\n",
              "      <td>7.0</td>\n",
              "      <td>3.2</td>\n",
              "      <td>4.7</td>\n",
              "      <td>1.4</td>\n",
              "      <td>1</td>\n",
              "    </tr>\n",
              "    <tr>\n",
              "      <th>51</th>\n",
              "      <td>6.4</td>\n",
              "      <td>3.2</td>\n",
              "      <td>4.5</td>\n",
              "      <td>1.5</td>\n",
              "      <td>1</td>\n",
              "    </tr>\n",
              "    <tr>\n",
              "      <th>52</th>\n",
              "      <td>6.9</td>\n",
              "      <td>3.1</td>\n",
              "      <td>4.9</td>\n",
              "      <td>1.5</td>\n",
              "      <td>1</td>\n",
              "    </tr>\n",
              "    <tr>\n",
              "      <th>53</th>\n",
              "      <td>5.5</td>\n",
              "      <td>2.3</td>\n",
              "      <td>4.0</td>\n",
              "      <td>1.3</td>\n",
              "      <td>1</td>\n",
              "    </tr>\n",
              "    <tr>\n",
              "      <th>54</th>\n",
              "      <td>6.5</td>\n",
              "      <td>2.8</td>\n",
              "      <td>4.6</td>\n",
              "      <td>1.5</td>\n",
              "      <td>1</td>\n",
              "    </tr>\n",
              "  </tbody>\n",
              "</table>\n",
              "</div>"
            ],
            "text/plain": [
              "    sepal length  sepal width  petal length  petal width  class\n",
              "50           7.0          3.2           4.7          1.4      1\n",
              "51           6.4          3.2           4.5          1.5      1\n",
              "52           6.9          3.1           4.9          1.5      1\n",
              "53           5.5          2.3           4.0          1.3      1\n",
              "54           6.5          2.8           4.6          1.5      1"
            ]
          },
          "metadata": {
            "tags": []
          },
          "execution_count": 10
        }
      ]
    },
    {
      "cell_type": "code",
      "metadata": {
        "colab": {
          "base_uri": "https://localhost:8080/",
          "height": 297
        },
        "id": "31Y_l-2BSM9i",
        "outputId": "be11ea64-1f81-4bf8-d5bb-456862fbf5a1"
      },
      "source": [
        "iris_data.describe()"
      ],
      "execution_count": 11,
      "outputs": [
        {
          "output_type": "execute_result",
          "data": {
            "text/html": [
              "<div>\n",
              "<style scoped>\n",
              "    .dataframe tbody tr th:only-of-type {\n",
              "        vertical-align: middle;\n",
              "    }\n",
              "\n",
              "    .dataframe tbody tr th {\n",
              "        vertical-align: top;\n",
              "    }\n",
              "\n",
              "    .dataframe thead th {\n",
              "        text-align: right;\n",
              "    }\n",
              "</style>\n",
              "<table border=\"1\" class=\"dataframe\">\n",
              "  <thead>\n",
              "    <tr style=\"text-align: right;\">\n",
              "      <th></th>\n",
              "      <th>sepal length</th>\n",
              "      <th>sepal width</th>\n",
              "      <th>petal length</th>\n",
              "      <th>petal width</th>\n",
              "      <th>class</th>\n",
              "    </tr>\n",
              "  </thead>\n",
              "  <tbody>\n",
              "    <tr>\n",
              "      <th>count</th>\n",
              "      <td>100.000000</td>\n",
              "      <td>100.000000</td>\n",
              "      <td>100.000000</td>\n",
              "      <td>100.000000</td>\n",
              "      <td>100.000000</td>\n",
              "    </tr>\n",
              "    <tr>\n",
              "      <th>mean</th>\n",
              "      <td>6.262000</td>\n",
              "      <td>2.872000</td>\n",
              "      <td>4.906000</td>\n",
              "      <td>1.676000</td>\n",
              "      <td>0.500000</td>\n",
              "    </tr>\n",
              "    <tr>\n",
              "      <th>std</th>\n",
              "      <td>0.662834</td>\n",
              "      <td>0.332751</td>\n",
              "      <td>0.825578</td>\n",
              "      <td>0.424769</td>\n",
              "      <td>0.502519</td>\n",
              "    </tr>\n",
              "    <tr>\n",
              "      <th>min</th>\n",
              "      <td>4.900000</td>\n",
              "      <td>2.000000</td>\n",
              "      <td>3.000000</td>\n",
              "      <td>1.000000</td>\n",
              "      <td>0.000000</td>\n",
              "    </tr>\n",
              "    <tr>\n",
              "      <th>25%</th>\n",
              "      <td>5.800000</td>\n",
              "      <td>2.700000</td>\n",
              "      <td>4.375000</td>\n",
              "      <td>1.300000</td>\n",
              "      <td>0.000000</td>\n",
              "    </tr>\n",
              "    <tr>\n",
              "      <th>50%</th>\n",
              "      <td>6.300000</td>\n",
              "      <td>2.900000</td>\n",
              "      <td>4.900000</td>\n",
              "      <td>1.600000</td>\n",
              "      <td>0.500000</td>\n",
              "    </tr>\n",
              "    <tr>\n",
              "      <th>75%</th>\n",
              "      <td>6.700000</td>\n",
              "      <td>3.025000</td>\n",
              "      <td>5.525000</td>\n",
              "      <td>2.000000</td>\n",
              "      <td>1.000000</td>\n",
              "    </tr>\n",
              "    <tr>\n",
              "      <th>max</th>\n",
              "      <td>7.900000</td>\n",
              "      <td>3.800000</td>\n",
              "      <td>6.900000</td>\n",
              "      <td>2.500000</td>\n",
              "      <td>1.000000</td>\n",
              "    </tr>\n",
              "  </tbody>\n",
              "</table>\n",
              "</div>"
            ],
            "text/plain": [
              "       sepal length  sepal width  petal length  petal width       class\n",
              "count    100.000000   100.000000    100.000000   100.000000  100.000000\n",
              "mean       6.262000     2.872000      4.906000     1.676000    0.500000\n",
              "std        0.662834     0.332751      0.825578     0.424769    0.502519\n",
              "min        4.900000     2.000000      3.000000     1.000000    0.000000\n",
              "25%        5.800000     2.700000      4.375000     1.300000    0.000000\n",
              "50%        6.300000     2.900000      4.900000     1.600000    0.500000\n",
              "75%        6.700000     3.025000      5.525000     2.000000    1.000000\n",
              "max        7.900000     3.800000      6.900000     2.500000    1.000000"
            ]
          },
          "metadata": {
            "tags": []
          },
          "execution_count": 11
        }
      ]
    },
    {
      "cell_type": "markdown",
      "metadata": {
        "id": "3xjjqd0oTRQ-"
      },
      "source": [
        "# Fitting + Cross-Validation"
      ]
    },
    {
      "cell_type": "code",
      "metadata": {
        "id": "DTA6JJM3TsuK"
      },
      "source": [
        "x_data = iris_data.loc[:, \"sepal length\":\"petal width\"].to_numpy()  #[100,4]\n",
        "y_data = iris_data.loc[:, \"class\"].to_numpy()  # [100,]"
      ],
      "execution_count": 12,
      "outputs": []
    },
    {
      "cell_type": "code",
      "metadata": {
        "id": "SFmPYpz3SvJO",
        "colab": {
          "base_uri": "https://localhost:8080/"
        },
        "outputId": "5dfb1aa1-0944-4498-d779-df2859abe235"
      },
      "source": [
        "model = LogisticNewton()\n",
        "model.cv(x_data, y_data, threshold=1e-5, epochs=3, is_print=False)"
      ],
      "execution_count": 125,
      "outputs": [
        {
          "output_type": "stream",
          "text": [
            "/usr/local/lib/python3.6/dist-packages/ipykernel_launcher.py:33: RuntimeWarning: overflow encountered in exp\n"
          ],
          "name": "stderr"
        }
      ]
    },
    {
      "cell_type": "markdown",
      "metadata": {
        "id": "Ph5d-HCE2vfh"
      },
      "source": [
        "# Evaluation"
      ]
    },
    {
      "cell_type": "markdown",
      "metadata": {
        "id": "ZRgD6WoB22Af"
      },
      "source": [
        "Mean Accuracy"
      ]
    },
    {
      "cell_type": "code",
      "metadata": {
        "colab": {
          "base_uri": "https://localhost:8080/"
        },
        "id": "jCFHEOPDj3Ay",
        "outputId": "b668e0ae-2491-4701-8781-7da42625efd5"
      },
      "source": [
        "ACC_list = np.array(model.ACC_list).reshape(10, 3)\n",
        "print(ACC_list)"
      ],
      "execution_count": 126,
      "outputs": [
        {
          "output_type": "stream",
          "text": [
            "[[0.9 0.9 0.9]\n",
            " [0.9 0.9 0.9]\n",
            " [1.  1.  1. ]\n",
            " [1.  1.  1. ]\n",
            " [0.  1.  1. ]\n",
            " [1.  1.  1. ]\n",
            " [1.  1.  1. ]\n",
            " [1.  1.  1. ]\n",
            " [1.  1.  1. ]\n",
            " [1.  1.  1. ]]\n"
          ],
          "name": "stdout"
        }
      ]
    },
    {
      "cell_type": "code",
      "metadata": {
        "colab": {
          "base_uri": "https://localhost:8080/"
        },
        "id": "aPY6aAEty-f1",
        "outputId": "b310c8ce-61ef-4ad4-9ce6-aa5d3a9e1da6"
      },
      "source": [
        "print(f\"mean accuracy: {ACC_list[:,-1].mean():.4f}\")"
      ],
      "execution_count": 127,
      "outputs": [
        {
          "output_type": "stream",
          "text": [
            "mean accuracy: 0.9800\n"
          ],
          "name": "stdout"
        }
      ]
    },
    {
      "cell_type": "markdown",
      "metadata": {
        "id": "vGVGTSY123rf"
      },
      "source": [
        "Confusion Matrix (averaged)\n",
        "\n",
        "- `versicolor(1)`를 `True` label로 상정하고 평가\n",
        "- 즉, `virginica(0)`는 `False` label"
      ]
    },
    {
      "cell_type": "code",
      "metadata": {
        "colab": {
          "base_uri": "https://localhost:8080/",
          "height": 111
        },
        "id": "tZCu8CAQ25vj",
        "outputId": "a9223158-afbd-4622-aa73-fcf03ea1a471"
      },
      "source": [
        "mtx = model.confusion\n",
        "pd.DataFrame([[mtx[\"TP\"], mtx[\"FP\"]], [mtx[\"TN\"], mtx[\"FN\"]]],\n",
        "             index=[\"T\",\"F\"], columns=[\"P\",\"N\"])"
      ],
      "execution_count": 128,
      "outputs": [
        {
          "output_type": "execute_result",
          "data": {
            "text/html": [
              "<div>\n",
              "<style scoped>\n",
              "    .dataframe tbody tr th:only-of-type {\n",
              "        vertical-align: middle;\n",
              "    }\n",
              "\n",
              "    .dataframe tbody tr th {\n",
              "        vertical-align: top;\n",
              "    }\n",
              "\n",
              "    .dataframe thead th {\n",
              "        text-align: right;\n",
              "    }\n",
              "</style>\n",
              "<table border=\"1\" class=\"dataframe\">\n",
              "  <thead>\n",
              "    <tr style=\"text-align: right;\">\n",
              "      <th></th>\n",
              "      <th>P</th>\n",
              "      <th>N</th>\n",
              "    </tr>\n",
              "  </thead>\n",
              "  <tbody>\n",
              "    <tr>\n",
              "      <th>T</th>\n",
              "      <td>138</td>\n",
              "      <td>12</td>\n",
              "    </tr>\n",
              "    <tr>\n",
              "      <th>F</th>\n",
              "      <td>146</td>\n",
              "      <td>4</td>\n",
              "    </tr>\n",
              "  </tbody>\n",
              "</table>\n",
              "</div>"
            ],
            "text/plain": [
              "     P   N\n",
              "T  138  12\n",
              "F  146   4"
            ]
          },
          "metadata": {
            "tags": []
          },
          "execution_count": 128
        }
      ]
    },
    {
      "cell_type": "markdown",
      "metadata": {
        "id": "PY1LZrXs26uu"
      },
      "source": [
        "Sensitivity (averaged)"
      ]
    },
    {
      "cell_type": "code",
      "metadata": {
        "colab": {
          "base_uri": "https://localhost:8080/"
        },
        "id": "pubUvWmD28bB",
        "outputId": "604c9098-6329-44fe-a7d1-b4f3b8812d91"
      },
      "source": [
        "print(f\"sensitivity: {np.array(model.TPR_list).mean():.4f}\")"
      ],
      "execution_count": 129,
      "outputs": [
        {
          "output_type": "stream",
          "text": [
            "sensitivity: 0.9667\n"
          ],
          "name": "stdout"
        }
      ]
    },
    {
      "cell_type": "markdown",
      "metadata": {
        "id": "ZQTRDvRE28rT"
      },
      "source": [
        "Specificity (averaged)"
      ]
    },
    {
      "cell_type": "code",
      "metadata": {
        "colab": {
          "base_uri": "https://localhost:8080/"
        },
        "id": "Tvv_5mnf29_a",
        "outputId": "f574332c-6443-4851-d8e5-4c6607edffe0"
      },
      "source": [
        "print(f\"specificity: {np.array(model.TNR_list).mean():.4f}\")"
      ],
      "execution_count": 130,
      "outputs": [
        {
          "output_type": "stream",
          "text": [
            "specificity: 0.9133\n"
          ],
          "name": "stdout"
        }
      ]
    },
    {
      "cell_type": "markdown",
      "metadata": {
        "id": "HuruXNHo2-bJ"
      },
      "source": [
        "ROC curve"
      ]
    },
    {
      "cell_type": "code",
      "metadata": {
        "colab": {
          "base_uri": "https://localhost:8080/",
          "height": 282
        },
        "id": "weYuV6WF3I-o",
        "outputId": "71165f2d-e310-441c-96b5-757f648673ec"
      },
      "source": [
        "plt.plot(model.TNR_list, model.TPR_list, \"r.\")"
      ],
      "execution_count": 131,
      "outputs": [
        {
          "output_type": "execute_result",
          "data": {
            "text/plain": [
              "[<matplotlib.lines.Line2D at 0x7f904ce870b8>]"
            ]
          },
          "metadata": {
            "tags": []
          },
          "execution_count": 131
        },
        {
          "output_type": "display_data",
          "data": {
            "image/png": "[encoded data removed]",
            "text/plain": [
              "<Figure size 432x288 with 1 Axes>"
            ]
          },
          "metadata": {
            "tags": [],
            "needs_background": "light"
          }
        }
      ]
    }
  ]
}